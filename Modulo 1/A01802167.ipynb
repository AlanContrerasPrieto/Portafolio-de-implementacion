{
 "cells": [
  {
   "cell_type": "code",
   "execution_count": 3,
   "id": "45cadae8",
   "metadata": {},
   "outputs": [],
   "source": [
    "import math\n",
    "def func_tercer_grado(a,b,c,d):\n",
    "    j = b/a\n",
    "    k = c/a\n",
    "    l = d/a\n",
    "    \n",
    "    p = k - (j**2)/3\n",
    "    q = 2 * (j**3)/27 - (k*j)/3 + l\n",
    "    r = (q**2)/4 + ((p**3)/27)\n",
    "    \n",
    "    if r >= 0:\n",
    "        z1 = math.cbrt(((-q/2) + math.sqrt(r))) + math.cbrt(((-q/2) - math.sqrt(r)))\n",
    "\n",
    "        T = (z1/2)**2 + q/z1\n",
    "        z2 = -z1/2 - math.sqrt(T)\n",
    "        z3 = -z1/2 + math.sqrt(T)\n",
    "\n",
    "        x1 = z1 - j/3\n",
    "        x2 = z2 - j/3\n",
    "        x3 = z3 - j/3\n",
    "    else:\n",
    "        theta = math.acos(-(3*math.sqrt(3)*q)/(2*math.sqrt(-p**3)))\n",
    "        M = 2*math.sqrt(-p/3)\n",
    "        z1 = M*math.cos(theta/3)\n",
    "        z2 = M*math.cos((theta + 2*math.pi)/3)\n",
    "        z3 = M*math.cos((theta + 4*math.pi)/3)\n",
    "\n",
    "        x1 = z1 - j/3\n",
    "        x2 = z2 - j/3\n",
    "        x3 = z3 - j/3\n",
    "    return round(x1,2),round(x2,2),round(x3,2)\n"
   ]
  },
  {
   "cell_type": "code",
   "execution_count": 5,
   "id": "033c9991",
   "metadata": {},
   "outputs": [
    {
     "data": {
      "text/plain": [
       "(8.0, 1.0, 5.0)"
      ]
     },
     "execution_count": 5,
     "metadata": {},
     "output_type": "execute_result"
    }
   ],
   "source": [
    "func_tercer_grado(1,-14,53,-40)"
   ]
  },
  {
   "cell_type": "code",
   "execution_count": 6,
   "id": "68c30815",
   "metadata": {},
   "outputs": [],
   "source": [
    "def func_cuato_grado(a,b,c,d,e):\n",
    "    j = b/a\n",
    "    k = c/a\n",
    "    l = d/a\n",
    "    m = e/a\n",
    "    \n",
    "    p = k - 3*(j**2)/8\n",
    "    q = j**3/8 - (j*k)/2 + l\n",
    "    r = m - (j*l)/4 - (j**2)*k/16 - 3*(j**4)/256\n",
    "\n",
    "    s1,s2,s3 = func_tercer_grado(1,-p/2,-r,(4*p*r - q**2)/8)\n",
    "\n",
    "    S = (s1 + s2 + s3)/3\n",
    "\n",
    "    Q = math.sqrt(2*S - p)\n",
    "    R = -q/2*Q\n",
    "\n",
    "    x1 = (Q + math.sqrt(Q**2 - 4*(S-R)))/2 - j/4\n",
    "    x2 = (Q - math.sqrt(Q**2 - 4*(S-R)))/2 - j/4\n",
    "    x3 = (Q + math.sqrt(Q**2 - 4*(S+R)))/2 - j/4\n",
    "    x4 = (Q - math.sqrt(Q**2 - 4*(S+R)))/2 - j/4\n",
    "\n",
    "    return round(x1,2),round(x2,2),round(x3,2),round(x4,2)"
   ]
  },
  {
   "cell_type": "code",
   "execution_count": null,
   "id": "d11424b1",
   "metadata": {},
   "outputs": [
    {
     "ename": "ValueError",
     "evalue": "math domain error",
     "output_type": "error",
     "traceback": [
      "\u001b[31m---------------------------------------------------------------------------\u001b[39m",
      "\u001b[31mValueError\u001b[39m                                Traceback (most recent call last)",
      "\u001b[36mCell\u001b[39m\u001b[36m \u001b[39m\u001b[32mIn[8]\u001b[39m\u001b[32m, line 6\u001b[39m\n\u001b[32m      4\u001b[39m d = \u001b[32m4\u001b[39m\n\u001b[32m      5\u001b[39m e = \u001b[32m5\u001b[39m\n\u001b[32m----> \u001b[39m\u001b[32m6\u001b[39m func_cuato_grado(a,b,c,d,e)\n",
      "\u001b[36mCell\u001b[39m\u001b[36m \u001b[39m\u001b[32mIn[6]\u001b[39m\u001b[32m, line 15\u001b[39m, in \u001b[36mfunc_cuato_grado\u001b[39m\u001b[34m(a, b, c, d, e)\u001b[39m\n\u001b[32m     11\u001b[39m s1,s2,s3 = func_tercer_grado(\u001b[32m1\u001b[39m,-p/\u001b[32m2\u001b[39m,-r,(\u001b[32m4\u001b[39m*p*r - q**\u001b[32m2\u001b[39m)/\u001b[32m8\u001b[39m)\n\u001b[32m     13\u001b[39m S = (s1 + s2 + s3)/\u001b[32m3\u001b[39m\n\u001b[32m---> \u001b[39m\u001b[32m15\u001b[39m Q = math.sqrt(\u001b[32m2\u001b[39m*S - p)\n\u001b[32m     16\u001b[39m R = -q/\u001b[32m2\u001b[39m*Q\n\u001b[32m     18\u001b[39m x1 = (Q + math.sqrt(Q**\u001b[32m2\u001b[39m - \u001b[32m4\u001b[39m*(S-R)))/\u001b[32m2\u001b[39m - j/\u001b[32m4\u001b[39m\n",
      "\u001b[31mValueError\u001b[39m: math domain error"
     ]
    }
   ],
   "source": [
    "a = 1\n",
    "b = 2\n",
    "c = 3\n",
    "d = 4\n",
    "e = 5\n",
    "func_cuato_grado(a,b,c,d,e)"
   ]
  },
  {
   "cell_type": "code",
   "execution_count": null,
   "id": "922cc577",
   "metadata": {},
   "outputs": [],
   "source": []
  }
 ],
 "metadata": {
  "kernelspec": {
   "display_name": "retoHousing",
   "language": "python",
   "name": "python3"
  },
  "language_info": {
   "codemirror_mode": {
    "name": "ipython",
    "version": 3
   },
   "file_extension": ".py",
   "mimetype": "text/x-python",
   "name": "python",
   "nbconvert_exporter": "python",
   "pygments_lexer": "ipython3",
   "version": "3.12.11"
  }
 },
 "nbformat": 4,
 "nbformat_minor": 5
}
