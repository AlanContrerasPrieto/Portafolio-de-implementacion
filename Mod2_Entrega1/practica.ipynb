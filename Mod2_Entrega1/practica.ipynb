{
 "cells": [
  {
   "cell_type": "code",
   "execution_count": 153,
   "id": "e7ccc827",
   "metadata": {},
   "outputs": [],
   "source": [
    "# Librerias\n",
    "import numpy as np\n",
    "import pandas as pd\n",
    "import seaborn as sns\n",
    "import matplotlib.pyplot as plt\n",
    "import sklearn\n",
    "from sklearn.datasets import make_classification\n",
    "from sklearn.model_selection import train_test_split\n",
    "from sklearn.metrics import confusion_matrix\n",
    "from sklearn.metrics import classification_report"
   ]
  },
  {
   "cell_type": "code",
   "execution_count": 154,
   "id": "56c90cdd",
   "metadata": {},
   "outputs": [
    {
     "data": {
      "text/plain": [
       "y\n",
       "0    5000\n",
       "1    5000\n",
       "Name: count, dtype: int64"
      ]
     },
     "execution_count": 154,
     "metadata": {},
     "output_type": "execute_result"
    }
   ],
   "source": [
    "data = sklearn.datasets.make_classification(\n",
    "    n_samples=10000, \n",
    "    n_features=5,  \n",
    "    n_classes=2\n",
    ")\n",
    "\n",
    "X = data[0]\n",
    "y = data[1]\n",
    "df = pd.DataFrame(X, columns=['x1', 'x2', 'x3', 'x4', 'x5'])\n",
    "df['y'] = y\n",
    "df[\"y\"].value_counts()"
   ]
  },
  {
   "cell_type": "code",
   "execution_count": 155,
   "id": "854e0af6",
   "metadata": {},
   "outputs": [
    {
     "data": {
      "text/html": [
       "<div>\n",
       "<style scoped>\n",
       "    .dataframe tbody tr th:only-of-type {\n",
       "        vertical-align: middle;\n",
       "    }\n",
       "\n",
       "    .dataframe tbody tr th {\n",
       "        vertical-align: top;\n",
       "    }\n",
       "\n",
       "    .dataframe thead th {\n",
       "        text-align: right;\n",
       "    }\n",
       "</style>\n",
       "<table border=\"1\" class=\"dataframe\">\n",
       "  <thead>\n",
       "    <tr style=\"text-align: right;\">\n",
       "      <th></th>\n",
       "      <th>x1</th>\n",
       "      <th>x2</th>\n",
       "      <th>x3</th>\n",
       "      <th>x4</th>\n",
       "      <th>x5</th>\n",
       "      <th>y</th>\n",
       "    </tr>\n",
       "  </thead>\n",
       "  <tbody>\n",
       "    <tr>\n",
       "      <th>count</th>\n",
       "      <td>10000.000000</td>\n",
       "      <td>10000.000000</td>\n",
       "      <td>10000.000000</td>\n",
       "      <td>10000.000000</td>\n",
       "      <td>10000.000000</td>\n",
       "      <td>10000.000000</td>\n",
       "    </tr>\n",
       "    <tr>\n",
       "      <th>mean</th>\n",
       "      <td>-0.000799</td>\n",
       "      <td>-0.005431</td>\n",
       "      <td>-0.001562</td>\n",
       "      <td>-0.003060</td>\n",
       "      <td>0.005873</td>\n",
       "      <td>0.500000</td>\n",
       "    </tr>\n",
       "    <tr>\n",
       "      <th>std</th>\n",
       "      <td>0.989314</td>\n",
       "      <td>1.467616</td>\n",
       "      <td>0.395782</td>\n",
       "      <td>1.328214</td>\n",
       "      <td>1.673880</td>\n",
       "      <td>0.500025</td>\n",
       "    </tr>\n",
       "    <tr>\n",
       "      <th>min</th>\n",
       "      <td>-3.777443</td>\n",
       "      <td>-5.454205</td>\n",
       "      <td>-1.534418</td>\n",
       "      <td>-4.254421</td>\n",
       "      <td>-7.601429</td>\n",
       "      <td>0.000000</td>\n",
       "    </tr>\n",
       "    <tr>\n",
       "      <th>25%</th>\n",
       "      <td>-0.662701</td>\n",
       "      <td>-1.062542</td>\n",
       "      <td>-0.224425</td>\n",
       "      <td>-1.062182</td>\n",
       "      <td>-0.815394</td>\n",
       "      <td>0.000000</td>\n",
       "    </tr>\n",
       "    <tr>\n",
       "      <th>50%</th>\n",
       "      <td>-0.005458</td>\n",
       "      <td>0.076008</td>\n",
       "      <td>-0.009668</td>\n",
       "      <td>-0.038001</td>\n",
       "      <td>-0.119144</td>\n",
       "      <td>0.500000</td>\n",
       "    </tr>\n",
       "    <tr>\n",
       "      <th>75%</th>\n",
       "      <td>0.648768</td>\n",
       "      <td>1.078953</td>\n",
       "      <td>0.217632</td>\n",
       "      <td>1.010996</td>\n",
       "      <td>1.078859</td>\n",
       "      <td>1.000000</td>\n",
       "    </tr>\n",
       "    <tr>\n",
       "      <th>max</th>\n",
       "      <td>3.603449</td>\n",
       "      <td>4.110126</td>\n",
       "      <td>1.631044</td>\n",
       "      <td>5.642000</td>\n",
       "      <td>5.752481</td>\n",
       "      <td>1.000000</td>\n",
       "    </tr>\n",
       "  </tbody>\n",
       "</table>\n",
       "</div>"
      ],
      "text/plain": [
       "                 x1            x2            x3            x4            x5  \\\n",
       "count  10000.000000  10000.000000  10000.000000  10000.000000  10000.000000   \n",
       "mean      -0.000799     -0.005431     -0.001562     -0.003060      0.005873   \n",
       "std        0.989314      1.467616      0.395782      1.328214      1.673880   \n",
       "min       -3.777443     -5.454205     -1.534418     -4.254421     -7.601429   \n",
       "25%       -0.662701     -1.062542     -0.224425     -1.062182     -0.815394   \n",
       "50%       -0.005458      0.076008     -0.009668     -0.038001     -0.119144   \n",
       "75%        0.648768      1.078953      0.217632      1.010996      1.078859   \n",
       "max        3.603449      4.110126      1.631044      5.642000      5.752481   \n",
       "\n",
       "                  y  \n",
       "count  10000.000000  \n",
       "mean       0.500000  \n",
       "std        0.500025  \n",
       "min        0.000000  \n",
       "25%        0.000000  \n",
       "50%        0.500000  \n",
       "75%        1.000000  \n",
       "max        1.000000  "
      ]
     },
     "execution_count": 155,
     "metadata": {},
     "output_type": "execute_result"
    }
   ],
   "source": [
    "df.describe()"
   ]
  },
  {
   "cell_type": "code",
   "execution_count": 156,
   "id": "465b6fa7",
   "metadata": {},
   "outputs": [],
   "source": [
    "# Dividir datos en entrenamiento y  prueba\n",
    "x_train, x_test, y_train, y_test = train_test_split(X, y, test_size=0.20, random_state=42)"
   ]
  },
  {
   "cell_type": "code",
   "execution_count": 157,
   "id": "ad9c468e",
   "metadata": {},
   "outputs": [],
   "source": [
    "# Red\n",
    "class RedNeuronal:\n",
    "    # Inicialización \n",
    "    def __init__(self, layers):\n",
    "        self.layers = layers\n",
    "        self.weights = []\n",
    "        self.biases = []\n",
    "        self.weightsΔ = []\n",
    "        self.biasesΔ = []\n",
    "\n",
    "        # Inicialización de pesos y biases aleatorios\n",
    "        for i in range(len(layers) - 1):\n",
    "            # Pesos: matriz de (neuronas capa actual, neuronas capa siguiente)\n",
    "            w = np.random.randn(layers[i], layers[i+1])\n",
    "            b = np.zeros((1, layers[i+1]))\n",
    "            self.weights.append(w)\n",
    "            self.biases.append(b)\n",
    "\n",
    "        # Initialize each Δw and Δb to zero.\n",
    "        for i in range(len(self.layers) - 1):\n",
    "            wΔ = np.zeros((self.layers[i], self.layers[i+1]))\n",
    "            bΔ = np.zeros((1, self.layers[i+1]))\n",
    "            self.weightsΔ.append(wΔ)\n",
    "            self.biasesΔ.append(bΔ)\n",
    "\n",
    "    # Mostrar pesos\n",
    "    def show_weights(self):\n",
    "        for i in range(len(self.layers)-1):\n",
    "            print(f\"Capa {i+1}-{i+2}\")\n",
    "            print(\"Weights: \", self.weights[i],\"Bias: \",self.biases[i])\n",
    "\n",
    "    #Función de activación sigmoide\n",
    "    def sigmoid(self, z):\n",
    "        return 1 / (1 + np.exp(-z))\n",
    "\n",
    "    # Feedforward\n",
    "    def predict(self, X):\n",
    "        a = X\n",
    "        for w, b in zip(self.weights, self.biases):\n",
    "            z = np.dot(a, w) + b\n",
    "            a = self.sigmoid(z)\n",
    "        return a\n",
    "\n",
    "    def fit(self, X, y, epochs=1000, learning_rate=0.01):\n",
    "        for epoch in range(epochs):\n",
    "            # Feedforward\n",
    "            a = self.predict(X)\n",
    "\n",
    "            # loss (MSE)\n",
    "            loss = np.mean((a - y) ** 2)\n",
    "\n",
    "            # Backward pass (gradient descent)\n",
    "            self.backward(X, y, a, learning_rate)\n",
    "\n",
    "            if epoch % 100 == 0:\n",
    "                print(f\"Epoch {epoch}, Loss: {loss}\")\n",
    "\n",
    "    def backward(self, X, y, a, learning_rate):\n",
    "        # Paso 1: forward con almacenamiento de activaciones y z\n",
    "        activations = [X]\n",
    "        zs = []  # valores antes de activación\n",
    "\n",
    "        a_tmp = X\n",
    "        for w, b in zip(self.weights, self.biases):\n",
    "            z = np.dot(a_tmp, w) + b\n",
    "            zs.append(z)\n",
    "            a_tmp = self.sigmoid(z)\n",
    "            activations.append(a_tmp)\n",
    "\n",
    "        # Paso 2: error de salida\n",
    "        delta = (activations[-1] - y) * (activations[-1] * (1 - activations[-1]))\n",
    "\n",
    "        # Gradientes de última capa\n",
    "        nabla_w = [np.dot(activations[-2].T, delta)]\n",
    "        nabla_b = [np.sum(delta, axis=0, keepdims=True)]\n",
    "\n",
    "        # Paso 3: backpropagation en capas ocultas\n",
    "        for l in range(2, len(self.layers)):\n",
    "            z = zs[-l]\n",
    "            sp = activations[-l] * (1 - activations[-l])  # derivada de sigmoide\n",
    "            delta = np.dot(delta, self.weights[-l+1].T) * sp\n",
    "            nabla_w.insert(0, np.dot(activations[-l-1].T, delta))\n",
    "            nabla_b.insert(0, np.sum(delta, axis=0, keepdims=True))\n",
    "\n",
    "        # Paso 4: actualizar pesos y biases\n",
    "        for i in range(len(self.weights)):\n",
    "            self.weights[i] -= learning_rate * nabla_w[i]\n",
    "            self.biases[i] -= learning_rate * nabla_b[i]\n"
   ]
  },
  {
   "cell_type": "code",
   "execution_count": 158,
   "id": "328febf8",
   "metadata": {},
   "outputs": [
    {
     "name": "stdout",
     "output_type": "stream",
     "text": [
      "Pesos iniciales (antes de entrenamiento):\n",
      "Capa 1-2\n",
      "Weights:  [[ 1.21778445  0.94373227 -1.38114861]\n",
      " [-0.64530299 -0.54601695 -0.33686472]\n",
      " [ 0.0039201   0.38560197 -2.05066129]\n",
      " [-0.96920454 -1.63433258 -0.63466247]\n",
      " [-2.29191326  0.86592163  1.43452657]] Bias:  [[0. 0. 0.]]\n",
      "Capa 2-3\n",
      "Weights:  [[ 0.37058394 -1.89759414  0.63927318  0.22867582 -1.50559654]\n",
      " [ 0.43641531 -0.93693064  0.31751423  0.07738072  0.55407313]\n",
      " [ 1.09604556 -1.6105572   0.88704717  0.13602374 -1.44058767]] Bias:  [[0. 0. 0. 0. 0.]]\n",
      "Capa 3-4\n",
      "Weights:  [[-0.4365624  -2.52021553  0.8231663 ]\n",
      " [ 0.46292596  1.71154177 -1.22372743]\n",
      " [-0.82703551 -0.28585238  0.09522276]\n",
      " [-1.75766014  1.05360922 -0.62680183]\n",
      " [ 1.20493678  0.92092122  0.44663281]] Bias:  [[0. 0. 0.]]\n",
      "Capa 4-5\n",
      "Weights:  [[-0.48026931]\n",
      " [ 0.55956224]\n",
      " [-1.217298  ]] Bias:  [[0.]]\n"
     ]
    }
   ],
   "source": [
    "capas = [5,       # Capa de entrada\n",
    "       3,5,3,   # Capas ocultas\n",
    "       1]       # Capa de salida\n",
    "red = RedNeuronal(capas)\n",
    "print(\"Pesos iniciales (antes de entrenamiento):\")\n",
    "red.show_weights()"
   ]
  },
  {
   "cell_type": "code",
   "execution_count": 159,
   "id": "4aefd304",
   "metadata": {},
   "outputs": [
    {
     "name": "stdout",
     "output_type": "stream",
     "text": [
      "\n",
      "Reporte de Clasificación:\n",
      "\n",
      "              precision    recall  f1-score   support\n",
      "\n",
      "     Clase 0       0.50      1.00      0.66      3982\n",
      "     Clase 1       0.00      0.00      0.00      4018\n",
      "\n",
      "    accuracy                           0.50      8000\n",
      "   macro avg       0.25      0.50      0.33      8000\n",
      "weighted avg       0.25      0.50      0.33      8000\n",
      "\n"
     ]
    },
    {
     "name": "stderr",
     "output_type": "stream",
     "text": [
      "c:\\Users\\Alan Contreras P\\miniconda3\\envs\\retoHousing\\Lib\\site-packages\\sklearn\\metrics\\_classification.py:1731: UndefinedMetricWarning: Precision is ill-defined and being set to 0.0 in labels with no predicted samples. Use `zero_division` parameter to control this behavior.\n",
      "  _warn_prf(average, modifier, f\"{metric.capitalize()} is\", result.shape[0])\n",
      "c:\\Users\\Alan Contreras P\\miniconda3\\envs\\retoHousing\\Lib\\site-packages\\sklearn\\metrics\\_classification.py:1731: UndefinedMetricWarning: Precision is ill-defined and being set to 0.0 in labels with no predicted samples. Use `zero_division` parameter to control this behavior.\n",
      "  _warn_prf(average, modifier, f\"{metric.capitalize()} is\", result.shape[0])\n",
      "c:\\Users\\Alan Contreras P\\miniconda3\\envs\\retoHousing\\Lib\\site-packages\\sklearn\\metrics\\_classification.py:1731: UndefinedMetricWarning: Precision is ill-defined and being set to 0.0 in labels with no predicted samples. Use `zero_division` parameter to control this behavior.\n",
      "  _warn_prf(average, modifier, f\"{metric.capitalize()} is\", result.shape[0])\n"
     ]
    },
    {
     "data": {
      "image/png": "[encoded data removed]",
      "text/plain": [
       "<Figure size 600x400 with 2 Axes>"
      ]
     },
     "metadata": {},
     "output_type": "display_data"
    }
   ],
   "source": [
    "y_pred = (red.predict(x_train) >= 0.5).astype(int)  # predicciones binarizadas\n",
    "\n",
    "# Reporte de métricas\n",
    "print(\"\\nReporte de Clasificación:\\n\")\n",
    "print(classification_report(y_train, y_pred, target_names=[\"Clase 0\", \"Clase 1\"]))\n",
    "\n",
    "# Crear matriz de confusión\n",
    "cm = confusion_matrix(y_train, y_pred)\n",
    "plt.figure(figsize=(6,4))\n",
    "sns.heatmap(cm, annot=True, fmt=\"d\", cmap=\"Reds\", xticklabels=[0,1], yticklabels=[0,1])\n",
    "plt.xlabel(\"Predicción\")\n",
    "plt.ylabel(\"Real\")\n",
    "plt.title(\"Matriz de Confusión: antes de entrenar el modelo\")\n",
    "plt.show()"
   ]
  },
  {
   "cell_type": "code",
   "execution_count": 160,
   "id": "abb864e7",
   "metadata": {},
   "outputs": [
    {
     "name": "stdout",
     "output_type": "stream",
     "text": [
      "Epoch 0, Loss: 0.26504595239921075\n",
      "Epoch 100, Loss: 0.07552538147568362\n",
      "Epoch 200, Loss: 0.07513259217717058\n",
      "Epoch 300, Loss: 0.06752835931545569\n",
      "Epoch 400, Loss: 0.0655707882709816\n",
      "Epoch 500, Loss: 0.06485520177596951\n",
      "Epoch 600, Loss: 0.06456687366788429\n",
      "Epoch 700, Loss: 0.06437905698849533\n",
      "Epoch 800, Loss: 0.06424635936323123\n",
      "Epoch 900, Loss: 0.06415407399150753\n",
      "Epoch 1000, Loss: 0.0640841608955964\n"
     ]
    }
   ],
   "source": [
    "red.fit(x_train, y_train.reshape(-1, 1), epochs=1001, learning_rate=0.01)"
   ]
  },
  {
   "cell_type": "code",
   "execution_count": 161,
   "id": "aec7622d",
   "metadata": {},
   "outputs": [
    {
     "name": "stdout",
     "output_type": "stream",
     "text": [
      "Pesos finales (despues de entrenamiento):\n",
      "Capa 1-2\n",
      "Weights:  [[-2.23132407e-01 -1.98207371e-01  6.83058172e-04]\n",
      " [-2.21761821e+00  6.28540419e+00 -1.15603162e+00]\n",
      " [-5.26974683e-02  1.32826159e+00 -2.05237393e+00]\n",
      " [ 7.38598455e-01 -4.48506692e+00  4.37329920e-01]\n",
      " [-3.17014388e+00  1.39291801e-01  7.95812307e-01]] Bias:  [[-1.90814581 -5.82403729 -1.51032021]]\n",
      "Capa 2-3\n",
      "Weights:  [[-4.49131857  2.32901158 -1.55597535  3.4519492  -1.4204739 ]\n",
      " [ 4.38545177 -4.04002801  0.79649902 -3.22328673 -0.380347  ]\n",
      " [ 3.7040231  -2.61273088  0.91516768 -1.60949107 -2.33403586]] Bias:  [[-1.36816157  1.10322376 -1.06102843 -0.95881982 -1.13975695]]\n",
      "Capa 3-4\n",
      "Weights:  [[-1.03158359 -5.58319894  2.47502367]\n",
      " [ 0.14644825  2.11388691 -3.43775443]\n",
      " [-1.43104043 -1.8260668   0.03094142]\n",
      " [-2.23857254  2.9819107  -2.77675195]\n",
      " [ 1.0255844   0.20470341  0.33083799]] Bias:  [[-1.10781349 -1.92810251 -1.19724342]]\n",
      "Capa 4-5\n",
      "Weights:  [[-0.20063681]\n",
      " [ 5.05070922]\n",
      " [-4.02397622]] Bias:  [[-1.15033393]]\n"
     ]
    }
   ],
   "source": [
    "print(\"Pesos finales (despues de entrenamiento):\")\n",
    "red.show_weights()"
   ]
  },
  {
   "cell_type": "code",
   "execution_count": 162,
   "id": "73cc8146",
   "metadata": {},
   "outputs": [
    {
     "name": "stdout",
     "output_type": "stream",
     "text": [
      "\n",
      "Reporte de Clasificación:\n",
      "\n",
      "              precision    recall  f1-score   support\n",
      "\n",
      "     Clase 0       0.88      0.96      0.92      3982\n",
      "     Clase 1       0.96      0.87      0.91      4018\n",
      "\n",
      "    accuracy                           0.92      8000\n",
      "   macro avg       0.92      0.92      0.92      8000\n",
      "weighted avg       0.92      0.92      0.92      8000\n",
      "\n"
     ]
    },
    {
     "data": {
      "image/png": "[encoded data removed]",
      "text/plain": [
       "<Figure size 600x400 with 2 Axes>"
      ]
     },
     "metadata": {},
     "output_type": "display_data"
    }
   ],
   "source": [
    "y_pred = (red.predict(x_train) >= 0.5).astype(int)  # predicciones binarizadas\n",
    "\n",
    "# Reporte de métricas\n",
    "print(\"\\nReporte de Clasificación:\\n\")\n",
    "print(classification_report(y_train, y_pred, target_names=[\"Clase 0\", \"Clase 1\"]))\n",
    "\n",
    "# Crear matriz de confusión\n",
    "cm = confusion_matrix(y_train, y_pred)\n",
    "plt.figure(figsize=(6,4))\n",
    "sns.heatmap(cm, annot=True, fmt=\"d\", cmap=\"Reds\", xticklabels=[0,1], yticklabels=[0,1])\n",
    "plt.xlabel(\"Predicción\")\n",
    "plt.ylabel(\"Real\")\n",
    "plt.title(\"Matriz de Confusión: despues de entrenar el modelo\")\n",
    "plt.show()"
   ]
  },
  {
   "cell_type": "code",
   "execution_count": 163,
   "id": "111c1d18",
   "metadata": {},
   "outputs": [
    {
     "name": "stdout",
     "output_type": "stream",
     "text": [
      "\n",
      "Reporte de Clasificación:\n",
      "\n",
      "              precision    recall  f1-score   support\n",
      "\n",
      "     Clase 0       0.89      0.97      0.93      1018\n",
      "     Clase 1       0.96      0.87      0.92       982\n",
      "\n",
      "    accuracy                           0.92      2000\n",
      "   macro avg       0.92      0.92      0.92      2000\n",
      "weighted avg       0.92      0.92      0.92      2000\n",
      "\n"
     ]
    },
    {
     "data": {
      "image/png": "[encoded data removed]",
      "text/plain": [
       "<Figure size 600x400 with 2 Axes>"
      ]
     },
     "metadata": {},
     "output_type": "display_data"
    }
   ],
   "source": [
    "y_pred = (red.predict(x_test) >= 0.5).astype(int)  # predicciones binarizadas\n",
    "\n",
    "# Reporte de métricas\n",
    "print(\"\\nReporte de Clasificación:\\n\")\n",
    "print(classification_report(y_test, y_pred, target_names=[\"Clase 0\", \"Clase 1\"]))\n",
    "\n",
    "# Crear matriz de confusión\n",
    "cm = confusion_matrix(y_test, y_pred)\n",
    "plt.figure(figsize=(6,4))\n",
    "sns.heatmap(cm, annot=True, fmt=\"d\", cmap=\"Reds\", xticklabels=[0,1], yticklabels=[0,1])\n",
    "plt.xlabel(\"Predicción\")\n",
    "plt.ylabel(\"Real\")\n",
    "plt.title(\"Matriz de Confusión: datos de prueba\")\n",
    "plt.show()"
   ]
  },
  {
   "cell_type": "code",
   "execution_count": 164,
   "id": "1904af56",
   "metadata": {},
   "outputs": [
    {
     "name": "stderr",
     "output_type": "stream",
     "text": [
      "[NbConvertApp] Converting notebook practica.ipynb to script\n",
      "[NbConvertApp] Writing 5878 bytes to practica.py\n"
     ]
    }
   ],
   "source": [
    "!jupyter nbconvert --to script practica.ipynb\n"
   ]
  }
 ],
 "metadata": {
  "kernelspec": {
   "display_name": "retoHousing",
   "language": "python",
   "name": "python3"
  },
  "language_info": {
   "codemirror_mode": {
    "name": "ipython",
    "version": 3
   },
   "file_extension": ".py",
   "mimetype": "text/x-python",
   "name": "python",
   "nbconvert_exporter": "python",
   "pygments_lexer": "ipython3",
   "version": "3.12.11"
  }
 },
 "nbformat": 4,
 "nbformat_minor": 5
}
