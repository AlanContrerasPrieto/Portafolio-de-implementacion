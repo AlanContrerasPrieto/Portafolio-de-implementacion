{
 "cells": [
  {
   "cell_type": "markdown",
   "id": "8c40c677",
   "metadata": {},
   "source": [
    "# Momento de Retroalimentación: \n",
    "## Módulo 2 Implementación de una técnica de aprendizaje máquina sin el uso de un framework.\n",
    "## (Portafolio Implementación)\n",
    "### Alan Contreras Prieto - A01749667"
   ]
  },
  {
   "cell_type": "code",
   "execution_count": 14,
   "id": "d4bd0232",
   "metadata": {},
   "outputs": [],
   "source": [
    "# Librerias\n",
    "import numpy as np\n",
    "import pandas as pd\n",
    "import seaborn as sns\n",
    "import matplotlib.pyplot as plt\n",
    "import sklearn\n",
    "from sklearn.datasets import make_classification\n",
    "from sklearn.model_selection import train_test_split\n",
    "from sklearn.metrics import confusion_matrix\n",
    "from sklearn.metrics import classification_report\n",
    "\n",
    "from sklearn.linear_model import LogisticRegression\n",
    "from sklearn import tree\n",
    "from sklearn.ensemble import RandomForestClassifier\n",
    "\n",
    "from sklearn.model_selection import KFold\n",
    "from sklearn.model_selection import GridSearchCV\n",
    "from sklearn.model_selection import RandomizedSearchCV"
   ]
  },
  {
   "cell_type": "markdown",
   "id": "74e9fe6b",
   "metadata": {},
   "source": [
    "# Etapa anterior"
   ]
  },
  {
   "cell_type": "code",
   "execution_count": 15,
   "id": "f683ee65",
   "metadata": {},
   "outputs": [
    {
     "data": {
      "text/plain": [
       "y\n",
       "1    5007\n",
       "0    4993\n",
       "Name: count, dtype: int64"
      ]
     },
     "execution_count": 15,
     "metadata": {},
     "output_type": "execute_result"
    }
   ],
   "source": [
    "data = sklearn.datasets.make_classification(\n",
    "    n_samples=10000, \n",
    "    n_features=5,  \n",
    "    n_classes=2\n",
    ")\n",
    "\n",
    "X = data[0]\n",
    "y = data[1]\n",
    "df = pd.DataFrame(X, columns=['x1', 'x2', 'x3', 'x4', 'x5'])\n",
    "df['y'] = y\n",
    "df[\"y\"].value_counts()"
   ]
  },
  {
   "cell_type": "code",
   "execution_count": 16,
   "id": "ca6c8422",
   "metadata": {},
   "outputs": [],
   "source": [
    "# Dividir datos en entrenamiento y  prueba\n",
    "X_train, X_test, y_train, y_test = train_test_split(X, y, test_size=0.20, random_state=42)"
   ]
  },
  {
   "cell_type": "code",
   "execution_count": 17,
   "id": "0d27185f",
   "metadata": {},
   "outputs": [
    {
     "name": "stdout",
     "output_type": "stream",
     "text": [
      "Fitting 5 folds for each of 144 candidates, totalling 720 fits\n",
      "Mejor score 0.9452\n",
      "Mejores hiperparámetros: {'criterion': 'log_loss', 'max_depth': 20, 'min_samples_split': 100, 'splitter': 'random'}\n",
      "\n",
      "\n",
      "\n"
     ]
    }
   ],
   "source": [
    "tree_clf = tree.DecisionTreeClassifier()\n",
    "\n",
    "folds = KFold(n_splits=5) #creación de los folds \n",
    "\n",
    "dicHiper = {} \n",
    "dicHiper[\"criterion\"] = ['gini', 'entropy',\"log_loss\"] \n",
    "dicHiper[\"splitter\"] = ['best', 'random'] \n",
    "dicHiper[\"max_depth\"] = [5,10,15,20,25,30] \n",
    "dicHiper[\"min_samples_split\"] = [50,100,250,500]\n",
    "\n",
    "hpSearch = GridSearchCV(tree_clf,dicHiper,n_jobs=-1,scoring=\"accuracy\",cv=folds,verbose=3) \n",
    "\n",
    "result = hpSearch.fit(X,y) \n",
    "print(f\"Mejor score {result.best_score_}\") \n",
    "print(f\"Mejores hiperparámetros: {result.best_params_}\\n\\n\\n\") "
   ]
  },
  {
   "cell_type": "code",
   "execution_count": 18,
   "id": "90907a7b",
   "metadata": {},
   "outputs": [],
   "source": [
    "tree_clf = result.best_estimator_\n",
    "tree_clf.fit(X_train,y_train)\n",
    "y_pred = tree_clf.predict(X_test)"
   ]
  },
  {
   "cell_type": "code",
   "execution_count": 19,
   "id": "847817c0",
   "metadata": {},
   "outputs": [
    {
     "name": "stdout",
     "output_type": "stream",
     "text": [
      "\n",
      "Reporte de Clasificación:\n",
      "\n",
      "              precision    recall  f1-score   support\n",
      "\n",
      "           0       0.94      0.96      0.95      1014\n",
      "           1       0.96      0.94      0.95       986\n",
      "\n",
      "    accuracy                           0.95      2000\n",
      "   macro avg       0.95      0.95      0.95      2000\n",
      "weighted avg       0.95      0.95      0.95      2000\n",
      "\n"
     ]
    },
    {
     "data": {
      "image/png": "[encoded data removed]",
      "text/plain": [
       "<Figure size 800x800 with 1 Axes>"
      ]
     },
     "metadata": {},
     "output_type": "display_data"
    }
   ],
   "source": [
    "# Reporte de métricas\n",
    "print(\"\\nReporte de Clasificación:\\n\")\n",
    "print(classification_report(y_test, y_pred))\n",
    "\n",
    "cm = confusion_matrix(y_test, y_pred)\n",
    "\n",
    "df1 = pd.DataFrame(columns=[\"0\",\"1\"], index= [\"0\",\"1\"], data= cm )\n",
    "\n",
    "f,ax = plt.subplots(figsize=(8,8))\n",
    "\n",
    "sns.heatmap(df1, annot=True,cmap=\"Reds\", fmt= '.0f',\n",
    "            ax=ax,linewidths = 5, cbar = False,annot_kws={\"size\": 14})\n",
    "plt.xlabel(\"Predicción\")\n",
    "plt.ylabel(\"REal\")\n",
    "plt.title(\"Árbol de decisión con datos de prueba\")\n",
    "plt.show()"
   ]
  },
  {
   "cell_type": "markdown",
   "id": "32311ae8",
   "metadata": {},
   "source": [
    "# Dataset"
   ]
  },
  {
   "cell_type": "code",
   "execution_count": 20,
   "id": "8245a892",
   "metadata": {},
   "outputs": [
    {
     "data": {
      "text/plain": [
       "y\n",
       "0    10033\n",
       "4    10015\n",
       "2     9987\n",
       "3     9983\n",
       "1     9982\n",
       "Name: count, dtype: int64"
      ]
     },
     "execution_count": 20,
     "metadata": {},
     "output_type": "execute_result"
    }
   ],
   "source": [
    "data = sklearn.datasets.make_classification(\n",
    "    n_samples=50000, \n",
    "    n_features=10,\n",
    "    n_classes=5,\n",
    "    \n",
    "    n_informative=5\n",
    ")\n",
    "\n",
    "X = data[0]\n",
    "y = data[1]\n",
    "df = pd.DataFrame(X, columns=['x1', 'x2', 'x3', 'x4', 'x5', 'x6', 'x7', 'x8', 'x9', 'x10'])\n",
    "df['y'] = y\n",
    "df[\"y\"].value_counts()"
   ]
  },
  {
   "cell_type": "code",
   "execution_count": 21,
   "id": "0512f9aa",
   "metadata": {},
   "outputs": [],
   "source": [
    "# Dividir datos en entrenamiento y  prueba\n",
    "X_train, X_test, y_train, y_test = train_test_split(X, y, test_size=0.20, random_state=42)"
   ]
  },
  {
   "cell_type": "markdown",
   "id": "887c33de",
   "metadata": {},
   "source": [
    "# Modelos"
   ]
  },
  {
   "cell_type": "markdown",
   "id": "2999640f",
   "metadata": {},
   "source": [
    "## Arboles de decisión"
   ]
  },
  {
   "cell_type": "code",
   "execution_count": 22,
   "id": "a4099bef",
   "metadata": {},
   "outputs": [
    {
     "name": "stdout",
     "output_type": "stream",
     "text": [
      "Fitting 5 folds for each of 144 candidates, totalling 720 fits\n",
      "Mejor score 0.8189249999999999\n",
      "Mejores hiperparámetros: {'criterion': 'gini', 'max_depth': 20, 'min_samples_split': 50, 'n_estimators': 100}\n",
      "\n",
      "\n",
      "\n"
     ]
    }
   ],
   "source": [
    "tree_clf = RandomForestClassifier()\n",
    "\n",
    "folds = KFold(n_splits=5) #creación de los folds\n",
    "\n",
    "dicHiper = {} \n",
    "dicHiper[\"n_estimators\"] = [10, 50, 100]\n",
    "dicHiper[\"criterion\"] = ['gini', 'entropy',\"log_loss\"] \n",
    "dicHiper[\"max_depth\"] = [10,20,30, None] \n",
    "dicHiper[\"min_samples_split\"] = [50,100,250,500]\n",
    "\n",
    "hpSearch = GridSearchCV(tree_clf,dicHiper,n_jobs=-1,scoring=\"accuracy\",cv=folds,verbose=3)\n",
    "\n",
    "result = hpSearch.fit(X_train,y_train)\n",
    "print(f\"Mejor score {result.best_score_}\") \n",
    "print(f\"Mejores hiperparámetros: {result.best_params_}\\n\\n\\n\")"
   ]
  },
  {
   "cell_type": "markdown",
   "id": "7d843c6c",
   "metadata": {},
   "source": [
    "### Entrenamiento"
   ]
  },
  {
   "cell_type": "code",
   "execution_count": 23,
   "id": "6e02f1e6",
   "metadata": {},
   "outputs": [],
   "source": [
    "tree_clf = result.best_estimator_\n",
    "tree_clf.fit(X_train,y_train)\n",
    "y_pred = tree_clf.predict(X_test)"
   ]
  },
  {
   "cell_type": "code",
   "execution_count": 24,
   "id": "22c11995",
   "metadata": {},
   "outputs": [
    {
     "name": "stdout",
     "output_type": "stream",
     "text": [
      "\n",
      "Reporte de Clasificación:\n",
      "\n",
      "              precision    recall  f1-score   support\n",
      "\n",
      "     Clase 0       0.84      0.82      0.83      2005\n",
      "     Clase 1       0.82      0.80      0.81      1999\n",
      "     Clase 2       0.86      0.90      0.88      2044\n",
      "     Clase 3       0.84      0.83      0.83      1958\n",
      "     Clase 4       0.82      0.82      0.82      1994\n",
      "\n",
      "    accuracy                           0.83     10000\n",
      "   macro avg       0.83      0.83      0.83     10000\n",
      "weighted avg       0.83      0.83      0.83     10000\n",
      "\n"
     ]
    },
    {
     "data": {
      "image/png": "[encoded data removed]",
      "text/plain": [
       "<Figure size 800x800 with 1 Axes>"
      ]
     },
     "metadata": {},
     "output_type": "display_data"
    }
   ],
   "source": [
    "# Reporte de métricas\n",
    "print(\"\\nReporte de Clasificación:\\n\")\n",
    "print(classification_report(y_test, y_pred, target_names=[\"Clase 0\", \"Clase 1\", \"Clase 2\", \"Clase 3\", \"Clase 4\"]))\n",
    "\n",
    "\n",
    "\n",
    "cm = confusion_matrix(y_test, y_pred)\n",
    "\n",
    "df1 = pd.DataFrame(columns=[\"0\",\"1\",\"2\",\"3\",\"4\"], index= [\"0\",\"1\",\"2\",\"3\",\"4\"], data= cm )\n",
    "\n",
    "f,ax = plt.subplots(figsize=(8,8))\n",
    "\n",
    "sns.heatmap(df1, annot=True,cmap=\"Reds\", fmt= '.0f',\n",
    "            ax=ax,linewidths = 5, cbar = False,annot_kws={\"size\": 14})\n",
    "plt.xlabel(\"Predicción\")\n",
    "plt.ylabel(\"Real\")\n",
    "plt.title(\"Random Forest con datos de prueba \", size = 10)\n",
    "plt.show()"
   ]
  },
  {
   "cell_type": "markdown",
   "id": "e3cf03bc",
   "metadata": {},
   "source": [
    "# Importar a .py"
   ]
  },
  {
   "cell_type": "code",
   "execution_count": 26,
   "id": "18ef35a8",
   "metadata": {},
   "outputs": [
    {
     "name": "stderr",
     "output_type": "stream",
     "text": [
      "[NbConvertApp] Converting notebook Practica2.ipynb to script\n",
      "[NbConvertApp] Writing 4286 bytes to Practica2.py\n"
     ]
    }
   ],
   "source": [
    "!jupyter nbconvert --to script Practica2.ipynb"
   ]
  }
 ],
 "metadata": {
  "kernelspec": {
   "display_name": "retoHousing",
   "language": "python",
   "name": "python3"
  },
  "language_info": {
   "codemirror_mode": {
    "name": "ipython",
    "version": 3
   },
   "file_extension": ".py",
   "mimetype": "text/x-python",
   "name": "python",
   "nbconvert_exporter": "python",
   "pygments_lexer": "ipython3",
   "version": "3.12.11"
  }
 },
 "nbformat": 4,
 "nbformat_minor": 5
}
